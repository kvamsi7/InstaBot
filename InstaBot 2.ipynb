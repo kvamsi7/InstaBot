{
 "cells": [
  {
   "cell_type": "markdown",
   "metadata": {},
   "source": [
    "# InstaBot - Part 2"
   ]
  },
  {
   "cell_type": "markdown",
   "metadata": {},
   "source": [
    "## Tasks"
   ]
  },
  {
   "cell_type": "markdown",
   "metadata": {},
   "source": [
    "- > 1. Now your friend has followed a lot of different food bloggers, he needs to analyse the habits of these bloggers.\n",
    "    <ol>\n",
    "    <li>From the list of instagram handles you obtained when you searched ‘food’ in previous project. Open the first 10 handles and find the top 5 which have the highest number of followers</li>\n",
    "    <li>Now Find the number of posts these handles have done in the previous 3 days.</li>\n",
    "    <li>Depict this information using a suitable graph.</li>\n",
    "    </ol>\n",
    "\n",
    "- > 2. Your friend also needs a list of hashtags that he should use in his posts.\n",
    "    <ol>\n",
    "    <li>Open the 5 handles you obtained in the last question, and scrape the content of the first 10 posts of each handle.</li>\n",
    "    <li>Prepare a list of all words used in all the scraped posts and calculate the frequency of each word.</li>\n",
    "    <li>Create a csv file with two columns : the word and its frequency</li>\n",
    "    <li>Now, find the hashtags that were most popular among these bloggers</li>\n",
    "    <li>Plot a Pie Chart of the top 5 hashtags obtained and the number of times they were used by these bloggers in the scraped posts.</li>\n",
    "    </ol>\n",
    "- > 3. You need to also calculate average followers : likes ratio for the obtained handles.\n",
    "    - Followers : Likes ratio is calculated as follows:\n",
    "   <ol>\n",
    "    <li> Find out the likes of the top 10 posts of the 5 handles obtained earlier.</li>\n",
    "    <li>Calculate the average likes for a handle.</li>\n",
    "    <li>Divide the average likes obtained from the number of followers of the handle to get the average followers:like ratio of each handle.</li>\n",
    "    <li>Create a bar graph to depict the above obtained information.</li>\n",
    "   <ol>"
   ]
  },
  {
   "cell_type": "code",
   "execution_count": 1,
   "metadata": {},
   "outputs": [],
   "source": [
    "import time\n",
    "from selenium import webdriver\n",
    "from selenium.webdriver.support.ui import WebDriverWait\n",
    "from selenium.webdriver.common.by import By\n",
    "from selenium.webdriver.support import expected_conditions as EC\n",
    "from bs4 import BeautifulSoup\n",
    "from selenium.common.exceptions import NoSuchElementException,StaleElementReferenceException\n",
    "\n",
    "# \n",
    "import pandas as pd\n",
    "import numpy as np \n",
    "from datetime import datetime\n",
    "import matplotlib.pyplot as plt"
   ]
  },
  {
   "cell_type": "markdown",
   "metadata": {},
   "source": [
    "##### Here i have used insatBot part 1 code as module and imported it to avoid repetetion of code implementation"
   ]
  },
  {
   "cell_type": "code",
   "execution_count": 2,
   "metadata": {},
   "outputs": [],
   "source": [
    "## Necessary imports \n",
    "from automateInsta import AutomateInsta"
   ]
  },
  {
   "cell_type": "code",
   "execution_count": 3,
   "metadata": {},
   "outputs": [],
   "source": [
    "## initializing the driver \n",
    "driver = webdriver.Chrome(executable_path='/Users/vamsi katam/chromedriver.exe')"
   ]
  },
  {
   "cell_type": "code",
   "execution_count": 4,
   "metadata": {},
   "outputs": [],
   "source": [
    "# website which we need to use\n",
    "url = 'https://www.instagram.com/'"
   ]
  },
  {
   "cell_type": "code",
   "execution_count": 5,
   "metadata": {},
   "outputs": [],
   "source": [
    "autoInsta = AutomateInsta(driver)"
   ]
  },
  {
   "cell_type": "code",
   "execution_count": 6,
   "metadata": {},
   "outputs": [],
   "source": [
    "autoInsta.open(url)"
   ]
  },
  {
   "cell_type": "code",
   "execution_count": 7,
   "metadata": {},
   "outputs": [
    {
     "name": "stdout",
     "output_type": "stream",
     "text": [
      "Successfully Logged in\n"
     ]
    }
   ],
   "source": [
    "autoInsta.login('vamsi7dev','katam@dev@7')"
   ]
  },
  {
   "cell_type": "markdown",
   "metadata": {},
   "source": [
    "### Task 1\n",
    "\n",
    "- >  Now your friend has followed a lot of different food bloggers, he needs to analyse the habits of these bloggers.\n",
    "    - From the list of instagram handles you obtained when you searched ‘food’ in previous project. Open the first 10 handles and find the top 5 which have the highest number of followers\n",
    "    - Now Find the number of posts these handles have done in the previous 3 days.\n",
    "    - Depict this information using a suitable graph."
   ]
  },
  {
   "cell_type": "code",
   "execution_count": 8,
   "metadata": {},
   "outputs": [],
   "source": [
    "def get_followers_count(handle):\n",
    "    url = 'https://www.instagram.com/{0}/'.format(handle)\n",
    "    driver.get(url)\n",
    "    time.sleep(3)\n",
    "    count = driver.find_elements_by_class_name('g47SY ')[1].get_attribute('title')\n",
    "    count = int(count.replace(',',\"\"))\n",
    "    return count"
   ]
  },
  {
   "cell_type": "code",
   "execution_count": 9,
   "metadata": {},
   "outputs": [],
   "source": [
    "def get_post_count_days(handle,days):\n",
    "    try:\n",
    "        url = 'https://www.instagram.com/{0}/'.format(handle)\n",
    "        # opening the profile page\n",
    "        driver.get(url)\n",
    "        time.sleep(2)\n",
    "        driver.find_element_by_link_text('POSTS').click()\n",
    "\n",
    "        # here we are opening a post \n",
    "        driver.find_element_by_xpath('//div[@class = \"Nnq7C weEfm\"]/div/a').click()\n",
    "        # will go upto 30 posts \n",
    "        count = 0\n",
    "        \n",
    "        cur_date =pd.to_datetime(datetime.today()).day\n",
    "        date_li = [cur_date-i for i in range(0,days+1)]\n",
    "#         print(date_li)\n",
    "        while True:\n",
    "            wait = WebDriverWait(driver,10)\n",
    "            element = wait.until(EC.presence_of_element_located((By.XPATH,'//div[@class = \"k_Q0X I0_K8  NnvRN\"]/a/time')))\n",
    "            \n",
    "            posted_time = pd.to_datetime(driver.find_element_by_xpath('//div[@class = \"k_Q0X I0_K8  NnvRN\"]/a/time').get_attribute('datetime'))\n",
    "#             print(posted_time)\n",
    "            pdat = posted_time.day\n",
    "            if pdat in date_li:\n",
    "                if pdat != cur_date:\n",
    "                    count += 1\n",
    "            else:\n",
    "                break\n",
    "            driver.find_element_by_css_selector('a.coreSpriteRightPaginationArrow').click()\n",
    "            time.sleep(2)\n",
    "        driver.get('https://www.instagram.com/')\n",
    "    except Exception as e:\n",
    "        print(e)\n",
    "    finally:\n",
    "        return count"
   ]
  },
  {
   "cell_type": "code",
   "execution_count": 10,
   "metadata": {},
   "outputs": [],
   "source": [
    "def get_top_5_handles(keyword):\n",
    "    \n",
    "    handles = autoInsta.get_insta_handles(keyword)\n",
    "    first_10_handles = handles[:10]\n",
    "    \n",
    "    handles_followers_count = {}\n",
    "    for i in first_10_handles:\n",
    "        count = get_followers_count(i)\n",
    "        handles_followers_count[i] = handles_followers_count.get(i,count)\n",
    "    \n",
    "    # lets get top 5 handles with max follower\n",
    "    top_5_handles = {}\n",
    "    sorted_handles = sorted(handles_followers_count,key=handles_followers_count.get,reverse=True)\n",
    "    for i in sorted_handles[:5]:\n",
    "        top_5_handles[i] = top_5_handles.get(i,0)\n",
    "    \n",
    "    # updating the posts count for each handle\n",
    "    for i in top_5_handles:\n",
    "        posts_count = get_post_count_days(i,3)\n",
    "        top_5_handles[i] = posts_count\n",
    "    \n",
    "    #storing the handles in sorted order \n",
    "    top_5_handles_posts_count = {}\n",
    "    for i in sorted(top_5_handles,key=top_5_handles.get,reverse=True):\n",
    "        top_5_handles_posts_count[i] = top_5_handles_posts_count.get(i,top_5_handles[i])\n",
    "    \n",
    "    return top_5_handles_posts_count"
   ]
  },
  {
   "cell_type": "code",
   "execution_count": 11,
   "metadata": {},
   "outputs": [],
   "source": [
    "def plot_top_5_handles(top_5_handles):\n",
    "    # plotting here \n",
    "    plt.figure(figsize=(10,7.5))\n",
    "    x = list(top_5_handles.keys())\n",
    "    y = list(top_5_handles.values())\n",
    "    plt.bar(x,y,edgecolor='black')\n",
    "    plt.xticks(rotation = 30)\n",
    "    plt.axis([-1,5,0,5])\n",
    "    for i,j in zip(x,y):\n",
    "        plt.text(i,j+0.05,j,fontweight= 'bold',color='black',ha='center')\n",
    "    plt.title('Top 5 Instagram Handle\\'s last 3 days posts count',fontdict={'weight':'bold','size':12})\n",
    "    plt.xlabel('Handle',fontdict={'weight':'bold','size':12})\n",
    "    plt.ylabel('Posts Count',fontdict={'weight':'bold','size':12})\n",
    "    plt.savefig(r\"C:\\Users\\vamsi katam\\Desktop\\CN\\Assignments\\Project InstaBot Part-2\\top_5_insta_hanldes_last_3_days_posts_count.png\",dpi=150)\n",
    "    plt.show()"
   ]
  },
  {
   "cell_type": "code",
   "execution_count": 12,
   "metadata": {},
   "outputs": [
    {
     "data": {
      "image/png": "[encoded data removed]",
      "text/plain": [
       "<Figure size 720x540 with 1 Axes>"
      ]
     },
     "metadata": {},
     "output_type": "display_data"
    }
   ],
   "source": [
    "top_5_handles = get_top_5_handles('food')\n",
    "plot_top_5_handles(top_5_handles)"
   ]
  },
  {
   "cell_type": "code",
   "execution_count": null,
   "metadata": {},
   "outputs": [],
   "source": []
  },
  {
   "cell_type": "markdown",
   "metadata": {},
   "source": [
    "#### Task 2\n",
    "- > Your friend also needs a list of hashtags that he should use in his posts.\n",
    "    - Open the 5 handles you obtained in the last question, and scrape the content of the first 10 posts of each handle.\n",
    "    - Prepare a list of all words used in all the scraped posts and calculate the frequency of each word.\n",
    "    - Create a csv file with two columns : the word and its frequency\n",
    "    - Now, find the hashtags that were most popular among these bloggers\n",
    "    - Plot a Pie Chart of the top 5 hashtags obtained and the number of times they were used by these bloggers in the scraped posts.\n"
   ]
  },
  {
   "cell_type": "markdown",
   "metadata": {},
   "source": [
    "> 2.1 Open the 5 handles you obtained in the last question, and scrape the content of the first 10 posts of each handle"
   ]
  },
  {
   "cell_type": "code",
   "execution_count": 13,
   "metadata": {},
   "outputs": [],
   "source": [
    "def get_hashtags(handle,posts_count):\n",
    "    try:\n",
    "        url = 'https://www.instagram.com/{0}/'.format(handle)\n",
    "        # opening the profile page\n",
    "        driver.get(url)\n",
    "        time.sleep(2)\n",
    "        driver.find_element_by_link_text('POSTS').click()\n",
    "\n",
    "        # here we are opening a post \n",
    "        driver.find_element_by_xpath('//div[@class = \"Nnq7C weEfm\"]/div/a').click()\n",
    "        # will go upto 30 posts \n",
    "        count = 0\n",
    "        hashtags = []\n",
    "        \n",
    "        count = 0\n",
    "        while count < posts_count:\n",
    "            wait = WebDriverWait(driver,10)\n",
    "            element = wait.until(EC.presence_of_element_located((By.XPATH,'//a[contains(@class,\"xil3i\")]')))\n",
    "            \n",
    "            hashtags_ele = driver.find_elements_by_xpath('//a[contains(@class,\"xil3i\")]')\n",
    "            \n",
    "            for ele in hashtags_ele:\n",
    "                hashtags.append(ele.text)\n",
    "                \n",
    "            count += 1\n",
    "            driver.find_element_by_css_selector('a.coreSpriteRightPaginationArrow').click()\n",
    "        driver.get('https://www.instagram.com/')\n",
    "    except e:\n",
    "        print(e)\n",
    "    finally:\n",
    "        return hashtags"
   ]
  },
  {
   "cell_type": "markdown",
   "metadata": {},
   "source": [
    "- > 2.2 Prepare a list of all words used in all the scraped posts and calculate the frequency of each word\n",
    "- > 2.3 Create a csv file with two columns : the word and its frequency"
   ]
  },
  {
   "cell_type": "code",
   "execution_count": 14,
   "metadata": {},
   "outputs": [],
   "source": [
    "def get_top_hashtags(top_5_handles):\n",
    "    hashtags = []\n",
    "\n",
    "    for i in top_5_handles.keys():\n",
    "        handle_hashtags = get_hashtags(i,10)\n",
    "        for tag in handle_hashtags:\n",
    "            hashtags.append(tag)\n",
    "\n",
    "    arr  = np.array(hashtags)\n",
    "\n",
    "    sorted_hashtags = pd.Series(arr).value_counts().reset_index()\n",
    "    sorted_hashtags.columns = ['Hashtag','Frequency']\n",
    "    \n",
    "    #2.1 saving the words and it frequency to csv file\n",
    "    sorted_hashtags.to_csv('top_5_insta_handles_hashtags_freq.csv',index=False)\n",
    "    \n",
    "    return sorted_hashtags"
   ]
  },
  {
   "cell_type": "code",
   "execution_count": 15,
   "metadata": {},
   "outputs": [],
   "source": [
    "hashtags = get_top_hashtags(top_5_handles)"
   ]
  },
  {
   "cell_type": "markdown",
   "metadata": {},
   "source": [
    "> 2.4 Now, find the hashtags that were most popular among these bloggers"
   ]
  },
  {
   "cell_type": "code",
   "execution_count": 16,
   "metadata": {},
   "outputs": [],
   "source": [
    "top_5_hashtags = hashtags.iloc[:5] # since we want top 5 hashtags "
   ]
  },
  {
   "cell_type": "markdown",
   "metadata": {},
   "source": [
    "> 2.5 Plot a Pie Chart of the top 5 hashtags obtained and the number of times they were used by these bloggers in the scraped posts"
   ]
  },
  {
   "cell_type": "code",
   "execution_count": 17,
   "metadata": {},
   "outputs": [],
   "source": [
    "tags = top_5_hashtags.Hashtag\n",
    "count = top_5_hashtags.Frequency"
   ]
  },
  {
   "cell_type": "code",
   "execution_count": 18,
   "metadata": {},
   "outputs": [
    {
     "data": {
      "image/png": "[encoded data removed]",
      "text/plain": [
       "<Figure size 576x432 with 1 Axes>"
      ]
     },
     "metadata": {},
     "output_type": "display_data"
    }
   ],
   "source": [
    "plt.figure(figsize=(8,6))\n",
    "plt.pie(count,labels=tags,counterclock=False,startangle=90,autopct='%.2f%%')\n",
    "plt.axis(\"equal\")\n",
    "plt.title('Top 5 Instagram Hashtags of recent 10 posts in top 5 Food Handles',fontdict={'weight':'bold','size':12})\n",
    "plt.savefig(r\"C:\\Users\\vamsi katam\\Desktop\\CN\\Assignments\\Project InstaBot Part-2\\top_5_insta_hashtags_of_top_5_food_handles.png\",dpi=150)\n",
    "plt.show()"
   ]
  },
  {
   "cell_type": "code",
   "execution_count": 272,
   "metadata": {},
   "outputs": [],
   "source": []
  },
  {
   "cell_type": "markdown",
   "metadata": {},
   "source": [
    "#### Task 3\n",
    "- > 3. You need to also calculate average followers : likes ratio for the obtained handles.\n",
    "    - Followers : Likes ratio is calculated as follows:\n",
    "   <ol>\n",
    "    <li> Find out the likes of the top 10 posts of the 5 handles obtained earlier.</li>\n",
    "    <li>Calculate the average likes for a handle.</li>\n",
    "    <li>Divide the average likes obtained from the number of followers of the handle to get the average followers:like ratio of each handle.</li>\n",
    "    <li>Create a bar graph to depict the above obtained information.</li>\n",
    "   <ol>"
   ]
  },
  {
   "cell_type": "markdown",
   "metadata": {},
   "source": [
    ">3.1 Find out the likes of the top 10 posts of the 5 handles obtained earlier."
   ]
  },
  {
   "cell_type": "code",
   "execution_count": 19,
   "metadata": {},
   "outputs": [],
   "source": [
    "def get_post_likes():\n",
    "\n",
    "    try :\n",
    "        likes = driver.find_element_by_xpath('//a[@class = \"zV_Nj\"]/span').text\n",
    "        likes = int(likes.replace(\",\",\"\"))\n",
    "    except NoSuchElementException:\n",
    "        raise NoSuchElementException\n",
    "    return likes "
   ]
  },
  {
   "cell_type": "code",
   "execution_count": 20,
   "metadata": {},
   "outputs": [],
   "source": [
    "def get_likes(handle,posts_count):\n",
    "    \n",
    "    try:\n",
    "        url = 'https://www.instagram.com/{0}/'.format(handle)\n",
    "        # opening the profile page\n",
    "        driver.get(url)\n",
    "        time.sleep(2)\n",
    "        driver.find_element_by_link_text('POSTS').click()\n",
    "\n",
    "        # here we are opening a post \n",
    "        driver.find_element_by_xpath('//div[@class = \"Nnq7C weEfm\"]/div/a').click()\n",
    "        # will go upto 30 posts \n",
    "        count = 0\n",
    "        posts_likes = []\n",
    "        count = 0\n",
    "        while count < posts_count:\n",
    "            wait = WebDriverWait(driver,10)\n",
    "            element = wait.until(EC.presence_of_element_located((By.XPATH,'//section[@class = \"EDfFK ygqzn\"]')))\n",
    "            try:\n",
    "                # getting likes of each post\n",
    "                likes = get_post_likes()\n",
    "                posts_likes.append(likes)\n",
    "            except NoSuchElementException:\n",
    "                driver.find_element_by_css_selector('a.coreSpriteRightPaginationArrow').click()\n",
    "                continue\n",
    "            count += 1\n",
    "            driver.find_element_by_css_selector('a.coreSpriteRightPaginationArrow').click()\n",
    "        driver.get('https://www.instagram.com/')\n",
    "    except Exception as e:\n",
    "        print(e)\n",
    "    finally:\n",
    "        return posts_likes"
   ]
  },
  {
   "cell_type": "code",
   "execution_count": 21,
   "metadata": {},
   "outputs": [],
   "source": [
    "# scraping the likes of top 10 posts\n",
    "handle_posts_likes = {}\n",
    "for i in top_5_handles.keys():\n",
    "    li = get_likes(i,10)\n",
    "    handle_posts_likes[i] = handle_posts_likes.get(i,li)"
   ]
  },
  {
   "cell_type": "markdown",
   "metadata": {},
   "source": [
    "> 3.2 Calculate the average likes for a handle."
   ]
  },
  {
   "cell_type": "code",
   "execution_count": 22,
   "metadata": {},
   "outputs": [],
   "source": [
    "# calculating the average of the likes\n",
    "handle_posts_avg_likes = {}\n",
    "for i in handle_posts_likes.keys():\n",
    "    avg_likes = np.sum(handle_posts_likes[i])/10\n",
    "    handle_posts_avg_likes[i] = handle_posts_avg_likes.get(i,avg_likes)"
   ]
  },
  {
   "cell_type": "markdown",
   "metadata": {},
   "source": [
    "> 3.3 Divide the average likes obtained from the number of followers of the handle to get the average followers:like ratio of each handle."
   ]
  },
  {
   "cell_type": "code",
   "execution_count": 23,
   "metadata": {},
   "outputs": [],
   "source": [
    "# getting the followers count of top 5 handles \n",
    "handles_followers_count = {}\n",
    "for i in top_5_handles.keys():\n",
    "    cnt = get_followers_count(i)\n",
    "    handles_followers_count[i] = handles_followers_count.get(i,cnt)\n",
    "\n",
    "# calculating the ratio here \n",
    "handles_ratio = {}\n",
    "for i,j in handle_posts_avg_likes.items():\n",
    "#     print(j,handles_followers_count[i])\n",
    "    handle_ratio = (j/handles_followers_count[i])\n",
    "    handles_ratio[i] = handles_ratio.get(i,handle_ratio)"
   ]
  },
  {
   "cell_type": "markdown",
   "metadata": {},
   "source": [
    "> 3.4 Create a bar graph to depict the above obtained information."
   ]
  },
  {
   "cell_type": "code",
   "execution_count": 24,
   "metadata": {
    "scrolled": false
   },
   "outputs": [],
   "source": [
    "def plot_bar(x,y):\n",
    "    plt.figure(figsize=(9,8))\n",
    "    plt.bar(x,y,edgecolor = 'black',width=0.6)\n",
    "    # plt.xticks(rotation=30)\n",
    "    plt.axis([-1,5,0,0.025])\n",
    "    for i,j in zip(x,y):\n",
    "        plt.text(i,j+1e-4,round(j,3),fontweight= 'bold',color='black',ha='center')\n",
    "    plt.title('Ratio of top 5 food handles',fontdict={'size':12})\n",
    "    plt.xlabel('Handles',fontdict={'size':12})\n",
    "    plt.ylabel('Ratio',fontdict={'size':12})\n",
    "    plt.savefig(r\"C:\\Users\\vamsi katam\\Desktop\\CN\\Assignments\\Project InstaBot Part-2\\ratio_of_top_5_food_handles.png\",dpi=150)\n",
    "    plt.show()"
   ]
  },
  {
   "cell_type": "code",
   "execution_count": 25,
   "metadata": {},
   "outputs": [],
   "source": [
    "x = handles_ratio.keys()\n",
    "y = handles_ratio.values()"
   ]
  },
  {
   "cell_type": "code",
   "execution_count": 26,
   "metadata": {},
   "outputs": [
    {
     "data": {
      "image/png": "[encoded data removed]",
      "text/plain": [
       "<Figure size 648x576 with 1 Axes>"
      ]
     },
     "metadata": {},
     "output_type": "display_data"
    }
   ],
   "source": [
    "plot_bar(x,y)"
   ]
  },
  {
   "cell_type": "code",
   "execution_count": null,
   "metadata": {},
   "outputs": [],
   "source": []
  },
  {
   "cell_type": "markdown",
   "metadata": {},
   "source": [
    "#### Logging out from the Instagram"
   ]
  },
  {
   "cell_type": "code",
   "execution_count": 277,
   "metadata": {},
   "outputs": [
    {
     "name": "stdout",
     "output_type": "stream",
     "text": [
      "Succeffully Logged Out\n"
     ]
    }
   ],
   "source": [
    "autoInsta.logout('vamsi7dev')"
   ]
  }
 ],
 "metadata": {
  "kernelspec": {
   "display_name": "Python 3",
   "language": "python",
   "name": "python3"
  },
  "language_info": {
   "codemirror_mode": {
    "name": "ipython",
    "version": 3
   },
   "file_extension": ".py",
   "mimetype": "text/x-python",
   "name": "python",
   "nbconvert_exporter": "python",
   "pygments_lexer": "ipython3",
   "version": "3.6.5"
  }
 },
 "nbformat": 4,
 "nbformat_minor": 2
}
